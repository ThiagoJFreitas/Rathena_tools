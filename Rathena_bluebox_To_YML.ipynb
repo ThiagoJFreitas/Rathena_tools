{
  "nbformat": 4,
  "nbformat_minor": 0,
  "metadata": {
    "colab": {
      "provenance": [],
      "authorship_tag": "ABX9TyNbZtTsmDhYhVaayIsh7hkh",
      "include_colab_link": true
    },
    "kernelspec": {
      "name": "python3",
      "display_name": "Python 3"
    },
    "language_info": {
      "name": "python"
    }
  },
  "cells": [
    {
      "cell_type": "markdown",
      "metadata": {
        "id": "view-in-github",
        "colab_type": "text"
      },
      "source": [
        "<a href=\"https://colab.research.google.com/github/ThiagoJFreitas/Rathena_tools/blob/main/Rathena_bluebox_To_YML.ipynb\" target=\"_parent\"><img src=\"https://colab.research.google.com/assets/colab-badge.svg\" alt=\"Open In Colab\"/></a>"
      ]
    },
    {
      "cell_type": "code",
      "execution_count": 7,
      "metadata": {
        "colab": {
          "base_uri": "https://localhost:8080/"
        },
        "id": "gUt10fncy-R9",
        "outputId": "5ad7ffba-027a-4efa-ba32-205dc0650cd9"
      },
      "outputs": [
        {
          "output_type": "stream",
          "name": "stdout",
          "text": [
            "Arquivo YAML gerado com sucesso em item_group_db.yml\n"
          ]
        }
      ],
      "source": [
        "import yaml\n",
        "import os\n",
        "\n",
        "# Função para carregar todos os arquivos YAML que começam com 'item_db' e criar um dicionário {ID: AegisName}\n",
        "def carregar_todos_item_db(pasta):\n",
        "    id_para_aegisname = {}\n",
        "\n",
        "    for arquivo in os.listdir(pasta):\n",
        "        if arquivo.startswith('item_db') and arquivo.endswith('.yml'):\n",
        "            caminho_arquivo = os.path.join(pasta, arquivo)\n",
        "            with open(caminho_arquivo, 'r') as f:\n",
        "                dados = yaml.safe_load(f)\n",
        "\n",
        "            for item in dados['Body']:\n",
        "                id_para_aegisname[int(item['Id'])] = item['AegisName']\n",
        "\n",
        "    return id_para_aegisname\n",
        "\n",
        "# Função para processar o arquivo de entrada TXT e gerar a estrutura YAML\n",
        "def processar_arquivo_txt(caminho_txt, id_para_aegisname, caminho_saida):\n",
        "    estrutura_yaml = []\n",
        "    group_items = {}\n",
        "\n",
        "    with open(caminho_txt, 'r') as f:\n",
        "        linhas = f.readlines()\n",
        "\n",
        "    index = 0  # Inicializa o índice crescente\n",
        "\n",
        "    for linha in linhas:\n",
        "        # Ignorar comentários ou linhas em branco\n",
        "        if not linha.strip() or linha.strip().startswith('//'):\n",
        "            continue\n",
        "\n",
        "        try:\n",
        "            # Separar os elementos da linha\n",
        "            partes = linha.split(',')\n",
        "            group = partes[0].strip()\n",
        "            item_id = int(partes[1].strip())\n",
        "            rate = int(partes[2].split('//')[0].strip())\n",
        "\n",
        "            # Obter o AegisName do item_db usando o ID\n",
        "            item_name = id_para_aegisname.get(item_id)\n",
        "\n",
        "            if not item_name:\n",
        "                print(f\"Aviso: ID {item_id} não encontrado no banco de dados. Ignorando linha.\")\n",
        "                continue\n",
        "\n",
        "            # Agrupar itens por Group\n",
        "            group_upper = group.upper()\n",
        "            if group_upper not in group_items:\n",
        "                group_items[group_upper] = []\n",
        "\n",
        "            group_items[group_upper].append({\n",
        "                'Index': index,\n",
        "                'Item': item_name,\n",
        "                'Rate': rate\n",
        "            })\n",
        "\n",
        "            index += 1  # Incrementa o índice para a próxima entrada\n",
        "\n",
        "        except (IndexError, ValueError) as e:\n",
        "            print(f\"Erro ao processar a linha: {linha.strip()} - {e}\")\n",
        "            continue\n",
        "\n",
        "    # Construir a estrutura final em YAML\n",
        "    for group, items in group_items.items():\n",
        "        estrutura_yaml.append({\n",
        "            'Group': group,\n",
        "            'SubGroups': [\n",
        "                {\n",
        "                    'SubGroup': 1,\n",
        "                    'Algorithm': 'Random',\n",
        "                    'List': items\n",
        "                }\n",
        "            ]\n",
        "        })\n",
        "\n",
        "    # Escrever o arquivo de saída em YAML\n",
        "    with open(caminho_saida, 'w') as f:\n",
        "        yaml.dump(estrutura_yaml, f, sort_keys=False)\n",
        "\n",
        "# Caminhos dos arquivos de entrada e saída\n",
        "pasta_item_db = '.'  # Diretório atual\n",
        "caminho_txt = 'item_bluebox.txt'\n",
        "caminho_saida = 'item_group_db.yml'\n",
        "\n",
        "# Carregar o banco de dados de itens de todos os arquivos que começam com 'item_db'\n",
        "id_para_aegisname = carregar_todos_item_db(pasta_item_db)\n",
        "\n",
        "# Processar o arquivo TXT e gerar o arquivo de saída YAML\n",
        "processar_arquivo_txt(caminho_txt, id_para_aegisname, caminho_saida)\n",
        "\n",
        "print(f\"Arquivo YAML gerado com sucesso em {caminho_saida}\")\n"
      ]
    }
  ]
}